{
  "cells": [
    {
      "cell_type": "markdown",
      "metadata": {
        "id": "O3hMZpm-L1tz"
      },
      "source": [
        "# Random Forest Classifier\n",
        "\\\n",
        "This notebook contains the code to train a random forest classifier for the Inbox Guardian classification task.  We use a dataset of the most recent 500 email chains we recieved.  "
      ]
    },
    {
      "cell_type": "code",
      "execution_count": 4,
      "metadata": {
        "id": "XqHHkvnXQHDZ"
      },
      "outputs": [],
      "source": [
        "from sklearn.ensemble import RandomForestClassifier\n",
        "import pandas as pd\n",
        "from sklearn.model_selection import train_test_split\n",
        "from sklearn.metrics import classification_report, confusion_matrix, f1_score\n",
        "from sklearn.feature_extraction.text import TfidfVectorizer"
      ]
    },
    {
      "cell_type": "code",
      "execution_count": 5,
      "metadata": {
        "id": "fwUtjPycQ6Vn"
      },
      "outputs": [],
      "source": [
        "RANDOM_STATE = 42 # random seed to ensure results are reproducible\n",
        "META = False # True if we only want to show the model senders and subjects, false if we want to pass in email body as well\n",
        "THREE_CLASSES = True # True for trinary classification task, false for binary"
      ]
    },
    {
      "cell_type": "code",
      "execution_count": 6,
      "metadata": {
        "colab": {
          "base_uri": "https://localhost:8080/",
          "height": 513
        },
        "id": "k9nZMJZTQ6qr",
        "outputId": "db3340f6-5353-423b-dee7-6b0a4c5743ef"
      },
      "outputs": [
        {
          "data": {
            "application/vnd.google.colaboratory.intrinsic+json": {
              "summary": "{\n  \"name\": \"df\",\n  \"rows\": 536,\n  \"fields\": [\n    {\n      \"column\": \"Sender\",\n      \"properties\": {\n        \"dtype\": \"category\",\n        \"num_unique_values\": 224,\n        \"samples\": [\n          \"VOX Daily <vox@dartmouth.edu>\",\n          \"Gradescope <no-reply@gradescope.com>\",\n          \"Historical Accountability Student Research Program <Historical.Accountability.Student.Research.Program@dartmouth.edu>\"\n        ],\n        \"semantic_type\": \"\",\n        \"description\": \"\"\n      }\n    },\n    {\n      \"column\": \"Subject\",\n      \"properties\": {\n        \"dtype\": \"string\",\n        \"num_unique_values\": 491,\n        \"samples\": [\n          \"WILL YOU BE MY VALENTINE??\",\n          \"SHPE CABIN OVERNIGHT!!!\\ud83c\\udfe0\\ud83c\\udf33\",\n          \"A Valentine's flitz from Marcello...\"\n        ],\n        \"semantic_type\": \"\",\n        \"description\": \"\"\n      }\n    },\n    {\n      \"column\": \"Body\",\n      \"properties\": {\n        \"dtype\": \"string\",\n        \"num_unique_values\": 528,\n        \"samples\": [\n          \" SCHOOL HOUSE BLAST ~SH ROM COM MOVIE NIGHT@5:00PMTHE CUBEPOP CORN ~ CANDYFollow us on Instagram to stay up to date with School House news and events!: https://www.instagram.com/dartmouth.school.house/?hl=enDartmouth School HouseSee you soon!Click here to Unsubscribe  One-click Unsubscribe: http://schoolhouse.moosend.com/unsubscribe/bc32a537-25e3-418d-aeb5-f5a2773919bc/acbace1a-ca9a-4881-9610-3bfa449ffba2/\",\n          \"Congratulations on making it to the end of Week 7! [cid:image006.gif@01DA60CA.F6B7C570] Thinking about watching a movie this weekend? Rather than watch on your laptop\\u2014come and watch a movie at the Hop! [cid:image005.gif@01DA60CA.8AC0C380] Come out to the Hop this weekend (Loew Auditorium @BVAC) to watch: Total Trust The Color Purple Academy Award nomination for Best Supporting Actress Oscar Shorts: Live Action More info below: All films screening in the Loew Auditorium in the BVAC! [cid:image001.jpg@01DA60C9.64BA12A0] Total Trust Discussion follows with Professor Yi Lu and Professor Christophe Hauser. This urgent documentary offers a front row seat to life under China's state surveillance system and raises questions about the dangers Big Data poses to individual freedom. Discussion follows. Friday at 7pm (Trailer: https://www.youtube.com/watch?v=Yrs-71a4ovo) The Chinese government's vision of an all-seeing society is becoming a reality. This eye-opening documentary follows an official  two human rights lawyers' families and a journalist to reveal how a person is gradually integrated into China's state surveillance system. By these haunting stories the film sparks a global debate about the dangers that Big Data and AI pose to individual freedoms. Through intimate v\\u00e9rit\\u00e9 scenes and rich archival footage  filmmaker Jialing Zhang (One Child Nation) aims to explore the changes in social behavior and suppression of human rights when technology is in the hands of unchecked power. If this is the present  what does our future look like? Part Six of the It\\u2019s Complicated Film Series Part of the Dartmouth Film Society series \\\"It's Complicated \\\" about messy relationships  forbidden love and romance gone wrong. [cid:image002.jpg@01DA60C9.86D9E1D0] The Color Purple Nominated for an Academy Award for Best Supporting Actress The musical adaptation of Alice Walker's landmark novel about love and sisterhood finally arrives on the big screen  starring Fantasia Barrino and Taraji P. Henson. Saturday at 7pm (Trailer: https://www.youtube.com/watch?v=zTnircQsMaM) Alice Walker's Pulitzer Prize-winning novel recounts the abuse and ascendancy of Celie  a poor Black woman living in the rural South in the early 1900s. This revered story was adapted into an Oscar-nominated film and a crowd-pleasing Broadway musical. Here  a bold new take delivers a movie musical with show-stopping set pieces  forays into fantasy and a powerhouse cast: Broadway alums as well as Colman Domingo  Taraji P. Henson and Halle Bailey. Ghanaian filmmaker Blitz Bazawule (The Burial of Kojo) introduces magical realism as an instrument to explore Celie's imagination. Color Purple 2.0 deliberately escapes into sporadic joy with its musical numbers  which allow the viewer to track Celie's emotional journey without being overwhelmed by her horrific traumas. Bazawule explains  \\\"They used humor  laughter  music  imagination and the beauty of the land. Everything we were pulling up to bring levity to this story was already there in Celie's world.\\\" Programmed in conjunction with Black Legacy Month. [cid:image004.jpg@01DA60C9.EAE9BA10] Oscar Shorts: Live Action Imaginative gems that offer perfection in miniature\\u2014and better chances in your Oscar pool! Sunday at 4pm (Trailer: https://www.youtube.com/watch?v=bcTq96luu_o) Short films may lack the scale and sweep of their feature-length siblings  but the best of them offer a promise of perfection in miniature and a reminder that cinema is often an art of patience  precision  and detail. These bite-sized gems combine imaginative daring with meticulous attention to craft and are a surefire way to improve your odds in the Oscar pool. Contains adult content. Interested in discussing these films over FREE FOOD after you've seen them? [Image] Come hang out at Film Society Tuesdays at 6:30pm in Wilson 205 (Wilson is the red brick building next to the Hood Museum) GroupMe link: https://groupme.com/join_group/96499483/jIZ3G9s6 Enjoy the snowy weekend! \\u2014 DFS [cid:image007.gif@01DA60CB.9544E9C0] \",\n          \"ATTENTION DARTMOUTH! The Dartmouth wants to hear your views regarding the reinstatement of the standardized testing requirement for Dartmouth admissions. Please complete this 5 minute survey  the results of which will be featured in an upcoming issue of The Dartmouth.       TAKE SURVEY  Let your voice be heard! Thank you in advance for your participation! Questions? Email datavis@thedartmouth.com \"\n        ],\n        \"semantic_type\": \"\",\n        \"description\": \"\"\n      }\n    },\n    {\n      \"column\": \"Meta\",\n      \"properties\": {\n        \"dtype\": \"string\",\n        \"num_unique_values\": 495,\n        \"samples\": [\n          \"Anonymous via Ed <notification@edstem.org> New in COSC.031.01-02-WI24: Practice Midterm Q4 clarification\",\n          \"Spilled Ink A Poetry Club <Spilled.Ink.A.Poetry.Club@dartmouth.edu> Poetry Slam! This Friday!\",\n          \"Hillel <Hillel@dartmouth.edu> Oct 7. Survivor Speaks Out TOMORROW\"\n        ],\n        \"semantic_type\": \"\",\n        \"description\": \"\"\n      }\n    },\n    {\n      \"column\": \"Full\",\n      \"properties\": {\n        \"dtype\": \"string\",\n        \"num_unique_values\": 529,\n        \"samples\": [\n          \"DCOL Investment and Philanthropy Program <DCOL.Investment.and.Philanthropy.Program@dartmouth.edu> Invitation to apply to the D. E. Shaw group Hi all Hope you are having a great Friday afternoon. Please see below for an opportunity with D.E. Shaw  one of the largest hedge funds in the world. Best DIPP IC ________________________________ I wanted to get back in touch about some new opportunities with the D. E. Shaw group. We\\u2019re now accepting applications for our summer 2025 discretionary investing and Strategy & Business Development intern teams. If you know any students in Dartmouth Investment and Philanthropy Program (DIPP) who might be interested in applying or learning more about our timeline  we hope you\\u2019ll pass along this email. I\\u2019ve included more information below about which internships are currently open. Students can check out this video to see what it\\u2019s like to intern with us or visit our website to apply for as many roles as they\\u2019d like. We review applications on a rolling basis and plan to begin interviewing candidates early next month. I also want to note that we don\\u2019t set time limits on our offers  regardless of whether students are already in the recruiting process elsewhere. Feel free to reach out to me with any questions  and thanks for sharing this opportunity with your network  Yizhen! Erin Bergano Human Capital | Recruiting D. E. Shaw & Co.  L.P. 1166 Avenue of the Americas  5th Floor | New York  NY 10036 A little more about the D. E. Shaw group:   *   Since our founding in 1988  we\\u2019ve earned a worldwide reputation for innovation  rigorous risk management  cutting-edge technology  and the quality and depth of our people. Visit our website to learn more about our culture and impact  research  and programs.   *   Our internships are open to students from all academic backgrounds who want to build skills and relationships  work on high-impact initiatives  and learn about finance and technology from experts inside and outside the firm.   *   We solve complex challenges together and thrive on the diversity of our employees. We welcome your perspective  experience  and background. We want to be a place where you can reach your full potential. FAQs: If students are interested in our Discretionary Investing and Strategy & Business Development teams: They can apply on our website now for any Fundamental Research Analyst Intern  Propriety Trading Intern  D. E. Shaw Investment Management (DESIM) Intern  and Strategy & Business Development (SBD) Intern roles. If they\\u2019re interested in our Business Operations  Systematic Investing  and Systems teams or our regional offices (London  Hong Kong  Singapore): We\\u2019ll start accepting applications on May 29  2024. Check our Campus website for more information about the internship opportunities with these teams! If they\\u2019re interested in our firm  but they\\u2019re already interviewing elsewhere: They can fill out this form and we\\u2019ll do our best to work with their timeline. They can also update the form or email me if their recruiting timeline changes. (Please note: this form isn\\u2019t an application. If they\\u2019re interested in an open role  they should also apply on our website so we can review their application.) If they\\u2019ve already accepted an offer for summer 2025: Congratulations! We\\u2019d still like to learn more about their career goals. They\\u2019re welcome to fill out this form to tell us more about what roles they might be interested in or hear about our future opportunities. If they\\u2019re second-year students: They can check out our three-day fellowship programs  which bring together talented students looking to learn more about what we do through case studies  seminars with visiting professors  and sessions with our analysts. Fellowships happen throughout the year  so interested students can fill out this form to get updates on our open applications. They can also watch this video for more information about our fellowships. [https://znsrc.com/o/pmpqoccuqsei] \",\n          \"Spare Rib <Spare.Rib@dartmouth.edu> \\u2764\\ufe0f\\ud83c\\udf4eLOVE IN THE DIGITAL AGE - DINNER + TALK - TONIGHT 6PM\\u2764\\ufe0f\\ud83c\\udf4e [\\ud83c\\udf4e]Join Spare Rib for our Winter Professor Lecture!![\\ud83c\\udf4e] This term  Professor Rosario will present: \\u201cLove in the Digital Age.\\u201d [cid:602b1f1e-43c4-4af4-8a25-688d9c0a6940] STUDIO SUDIKOFF SAT 2/24 @6PM Dinner provided! The talk will cover topics of dating  casual sex  and relationships  from a philosophical perspective. *content warning for brief mentions of sexual assault/harassment as it relates to topic See you TONIGHT! ~Spare Rib[\\ud83c\\udf4e] Email: spare.rib@dartmouth.edu Website Insta: @spareribzine Spotify Audio Zine \",\n          \"The Dartmouth <The.Dartmouth@dartmouth.edu> POLL: Share your views on Dartmouth's reinstatement of the standardized testing requirement! ATTENTION DARTMOUTH! The Dartmouth wants to hear your views regarding the reinstatement of the standardized testing requirement for Dartmouth admissions. Please complete this 5 minute survey  the results of which will be featured in an upcoming issue of The Dartmouth.       TAKE SURVEY  Let your voice be heard! Thank you in advance for your participation! Questions? Email datavis@thedartmouth.com \"\n        ],\n        \"semantic_type\": \"\",\n        \"description\": \"\"\n      }\n    },\n    {\n      \"column\": \"Label\",\n      \"properties\": {\n        \"dtype\": \"number\",\n        \"std\": 0,\n        \"min\": 0,\n        \"max\": 2,\n        \"num_unique_values\": 3,\n        \"samples\": [\n          0,\n          1,\n          2\n        ],\n        \"semantic_type\": \"\",\n        \"description\": \"\"\n      }\n    }\n  ]\n}",
              "type": "dataframe",
              "variable_name": "df"
            },
            "text/html": [
              "\n",
              "  <div id=\"df-048ce40d-c766-4971-9618-7eb5f254221c\" class=\"colab-df-container\">\n",
              "    <div>\n",
              "<style scoped>\n",
              "    .dataframe tbody tr th:only-of-type {\n",
              "        vertical-align: middle;\n",
              "    }\n",
              "\n",
              "    .dataframe tbody tr th {\n",
              "        vertical-align: top;\n",
              "    }\n",
              "\n",
              "    .dataframe thead th {\n",
              "        text-align: right;\n",
              "    }\n",
              "</style>\n",
              "<table border=\"1\" class=\"dataframe\">\n",
              "  <thead>\n",
              "    <tr style=\"text-align: right;\">\n",
              "      <th></th>\n",
              "      <th>Sender</th>\n",
              "      <th>Subject</th>\n",
              "      <th>Body</th>\n",
              "      <th>Meta</th>\n",
              "      <th>Full</th>\n",
              "      <th>Label</th>\n",
              "    </tr>\n",
              "  </thead>\n",
              "  <tbody>\n",
              "    <tr>\n",
              "      <th>0</th>\n",
              "      <td>Can't Sell Culture Comedy Collective &lt;Can't.Se...</td>\n",
              "      <td>CANT SELL CULTURE COMEDY SHOW AXA WEDNESDAY 8PM</td>\n",
              "      <td>Dear Gorgeous Gorgeous Gorgeous It’s been such...</td>\n",
              "      <td>Can't Sell Culture Comedy Collective &lt;Can't.Se...</td>\n",
              "      <td>Can't Sell Culture Comedy Collective &lt;Can't.Se...</td>\n",
              "      <td>0</td>\n",
              "    </tr>\n",
              "    <tr>\n",
              "      <th>1</th>\n",
              "      <td>Dartmouth Comedy Network &lt;Dartmouth.Comedy.Net...</td>\n",
              "      <td>Standup Comedy Open Mic Wednesday @9PM</td>\n",
              "      <td>Did you catch the comedy bug after watching Ma...</td>\n",
              "      <td>Dartmouth Comedy Network &lt;Dartmouth.Comedy.Net...</td>\n",
              "      <td>Dartmouth Comedy Network &lt;Dartmouth.Comedy.Net...</td>\n",
              "      <td>0</td>\n",
              "    </tr>\n",
              "    <tr>\n",
              "      <th>2</th>\n",
              "      <td>Dartmouth Libertarians &lt;Dartmouth.Libertarians...</td>\n",
              "      <td>YOU OWE OTHERS</td>\n",
              "      <td>[cid:8efe9b1a-1318-4bcd-a7c9-ab101c844447]</td>\n",
              "      <td>Dartmouth Libertarians &lt;Dartmouth.Libertarians...</td>\n",
              "      <td>Dartmouth Libertarians &lt;Dartmouth.Libertarians...</td>\n",
              "      <td>0</td>\n",
              "    </tr>\n",
              "    <tr>\n",
              "      <th>3</th>\n",
              "      <td>Central Americans United Student Association &lt;...</td>\n",
              "      <td>🇸🇻2024 Salvadorian Elections 🇸🇻- A Conversatio...</td>\n",
              "      <td>Join us for a conversation with … ~ Professor...</td>\n",
              "      <td>Central Americans United Student Association &lt;...</td>\n",
              "      <td>Central Americans United Student Association &lt;...</td>\n",
              "      <td>0</td>\n",
              "    </tr>\n",
              "    <tr>\n",
              "      <th>4</th>\n",
              "      <td>Hop Fellows &lt;Hop.Fellows@dartmouth.edu&gt;</td>\n",
              "      <td>Hanunder  N.H. - Primer on being cool at Dartm...</td>\n",
              "      <td>[https://lh7-us.googleusercontent.com/bIftg2CE...</td>\n",
              "      <td>Hop Fellows &lt;Hop.Fellows@dartmouth.edu&gt; Hanund...</td>\n",
              "      <td>Hop Fellows &lt;Hop.Fellows@dartmouth.edu&gt; Hanund...</td>\n",
              "      <td>0</td>\n",
              "    </tr>\n",
              "  </tbody>\n",
              "</table>\n",
              "</div>\n",
              "    <div class=\"colab-df-buttons\">\n",
              "\n",
              "  <div class=\"colab-df-container\">\n",
              "    <button class=\"colab-df-convert\" onclick=\"convertToInteractive('df-048ce40d-c766-4971-9618-7eb5f254221c')\"\n",
              "            title=\"Convert this dataframe to an interactive table.\"\n",
              "            style=\"display:none;\">\n",
              "\n",
              "  <svg xmlns=\"http://www.w3.org/2000/svg\" height=\"24px\" viewBox=\"0 -960 960 960\">\n",
              "    <path d=\"M120-120v-720h720v720H120Zm60-500h600v-160H180v160Zm220 220h160v-160H400v160Zm0 220h160v-160H400v160ZM180-400h160v-160H180v160Zm440 0h160v-160H620v160ZM180-180h160v-160H180v160Zm440 0h160v-160H620v160Z\"/>\n",
              "  </svg>\n",
              "    </button>\n",
              "\n",
              "  <style>\n",
              "    .colab-df-container {\n",
              "      display:flex;\n",
              "      gap: 12px;\n",
              "    }\n",
              "\n",
              "    .colab-df-convert {\n",
              "      background-color: #E8F0FE;\n",
              "      border: none;\n",
              "      border-radius: 50%;\n",
              "      cursor: pointer;\n",
              "      display: none;\n",
              "      fill: #1967D2;\n",
              "      height: 32px;\n",
              "      padding: 0 0 0 0;\n",
              "      width: 32px;\n",
              "    }\n",
              "\n",
              "    .colab-df-convert:hover {\n",
              "      background-color: #E2EBFA;\n",
              "      box-shadow: 0px 1px 2px rgba(60, 64, 67, 0.3), 0px 1px 3px 1px rgba(60, 64, 67, 0.15);\n",
              "      fill: #174EA6;\n",
              "    }\n",
              "\n",
              "    .colab-df-buttons div {\n",
              "      margin-bottom: 4px;\n",
              "    }\n",
              "\n",
              "    [theme=dark] .colab-df-convert {\n",
              "      background-color: #3B4455;\n",
              "      fill: #D2E3FC;\n",
              "    }\n",
              "\n",
              "    [theme=dark] .colab-df-convert:hover {\n",
              "      background-color: #434B5C;\n",
              "      box-shadow: 0px 1px 3px 1px rgba(0, 0, 0, 0.15);\n",
              "      filter: drop-shadow(0px 1px 2px rgba(0, 0, 0, 0.3));\n",
              "      fill: #FFFFFF;\n",
              "    }\n",
              "  </style>\n",
              "\n",
              "    <script>\n",
              "      const buttonEl =\n",
              "        document.querySelector('#df-048ce40d-c766-4971-9618-7eb5f254221c button.colab-df-convert');\n",
              "      buttonEl.style.display =\n",
              "        google.colab.kernel.accessAllowed ? 'block' : 'none';\n",
              "\n",
              "      async function convertToInteractive(key) {\n",
              "        const element = document.querySelector('#df-048ce40d-c766-4971-9618-7eb5f254221c');\n",
              "        const dataTable =\n",
              "          await google.colab.kernel.invokeFunction('convertToInteractive',\n",
              "                                                    [key], {});\n",
              "        if (!dataTable) return;\n",
              "\n",
              "        const docLinkHtml = 'Like what you see? Visit the ' +\n",
              "          '<a target=\"_blank\" href=https://colab.research.google.com/notebooks/data_table.ipynb>data table notebook</a>'\n",
              "          + ' to learn more about interactive tables.';\n",
              "        element.innerHTML = '';\n",
              "        dataTable['output_type'] = 'display_data';\n",
              "        await google.colab.output.renderOutput(dataTable, element);\n",
              "        const docLink = document.createElement('div');\n",
              "        docLink.innerHTML = docLinkHtml;\n",
              "        element.appendChild(docLink);\n",
              "      }\n",
              "    </script>\n",
              "  </div>\n",
              "\n",
              "\n",
              "<div id=\"df-c1617087-1f66-4216-bce0-35c436c678c6\">\n",
              "  <button class=\"colab-df-quickchart\" onclick=\"quickchart('df-c1617087-1f66-4216-bce0-35c436c678c6')\"\n",
              "            title=\"Suggest charts\"\n",
              "            style=\"display:none;\">\n",
              "\n",
              "<svg xmlns=\"http://www.w3.org/2000/svg\" height=\"24px\"viewBox=\"0 0 24 24\"\n",
              "     width=\"24px\">\n",
              "    <g>\n",
              "        <path d=\"M19 3H5c-1.1 0-2 .9-2 2v14c0 1.1.9 2 2 2h14c1.1 0 2-.9 2-2V5c0-1.1-.9-2-2-2zM9 17H7v-7h2v7zm4 0h-2V7h2v10zm4 0h-2v-4h2v4z\"/>\n",
              "    </g>\n",
              "</svg>\n",
              "  </button>\n",
              "\n",
              "<style>\n",
              "  .colab-df-quickchart {\n",
              "      --bg-color: #E8F0FE;\n",
              "      --fill-color: #1967D2;\n",
              "      --hover-bg-color: #E2EBFA;\n",
              "      --hover-fill-color: #174EA6;\n",
              "      --disabled-fill-color: #AAA;\n",
              "      --disabled-bg-color: #DDD;\n",
              "  }\n",
              "\n",
              "  [theme=dark] .colab-df-quickchart {\n",
              "      --bg-color: #3B4455;\n",
              "      --fill-color: #D2E3FC;\n",
              "      --hover-bg-color: #434B5C;\n",
              "      --hover-fill-color: #FFFFFF;\n",
              "      --disabled-bg-color: #3B4455;\n",
              "      --disabled-fill-color: #666;\n",
              "  }\n",
              "\n",
              "  .colab-df-quickchart {\n",
              "    background-color: var(--bg-color);\n",
              "    border: none;\n",
              "    border-radius: 50%;\n",
              "    cursor: pointer;\n",
              "    display: none;\n",
              "    fill: var(--fill-color);\n",
              "    height: 32px;\n",
              "    padding: 0;\n",
              "    width: 32px;\n",
              "  }\n",
              "\n",
              "  .colab-df-quickchart:hover {\n",
              "    background-color: var(--hover-bg-color);\n",
              "    box-shadow: 0 1px 2px rgba(60, 64, 67, 0.3), 0 1px 3px 1px rgba(60, 64, 67, 0.15);\n",
              "    fill: var(--button-hover-fill-color);\n",
              "  }\n",
              "\n",
              "  .colab-df-quickchart-complete:disabled,\n",
              "  .colab-df-quickchart-complete:disabled:hover {\n",
              "    background-color: var(--disabled-bg-color);\n",
              "    fill: var(--disabled-fill-color);\n",
              "    box-shadow: none;\n",
              "  }\n",
              "\n",
              "  .colab-df-spinner {\n",
              "    border: 2px solid var(--fill-color);\n",
              "    border-color: transparent;\n",
              "    border-bottom-color: var(--fill-color);\n",
              "    animation:\n",
              "      spin 1s steps(1) infinite;\n",
              "  }\n",
              "\n",
              "  @keyframes spin {\n",
              "    0% {\n",
              "      border-color: transparent;\n",
              "      border-bottom-color: var(--fill-color);\n",
              "      border-left-color: var(--fill-color);\n",
              "    }\n",
              "    20% {\n",
              "      border-color: transparent;\n",
              "      border-left-color: var(--fill-color);\n",
              "      border-top-color: var(--fill-color);\n",
              "    }\n",
              "    30% {\n",
              "      border-color: transparent;\n",
              "      border-left-color: var(--fill-color);\n",
              "      border-top-color: var(--fill-color);\n",
              "      border-right-color: var(--fill-color);\n",
              "    }\n",
              "    40% {\n",
              "      border-color: transparent;\n",
              "      border-right-color: var(--fill-color);\n",
              "      border-top-color: var(--fill-color);\n",
              "    }\n",
              "    60% {\n",
              "      border-color: transparent;\n",
              "      border-right-color: var(--fill-color);\n",
              "    }\n",
              "    80% {\n",
              "      border-color: transparent;\n",
              "      border-right-color: var(--fill-color);\n",
              "      border-bottom-color: var(--fill-color);\n",
              "    }\n",
              "    90% {\n",
              "      border-color: transparent;\n",
              "      border-bottom-color: var(--fill-color);\n",
              "    }\n",
              "  }\n",
              "</style>\n",
              "\n",
              "  <script>\n",
              "    async function quickchart(key) {\n",
              "      const quickchartButtonEl =\n",
              "        document.querySelector('#' + key + ' button');\n",
              "      quickchartButtonEl.disabled = true;  // To prevent multiple clicks.\n",
              "      quickchartButtonEl.classList.add('colab-df-spinner');\n",
              "      try {\n",
              "        const charts = await google.colab.kernel.invokeFunction(\n",
              "            'suggestCharts', [key], {});\n",
              "      } catch (error) {\n",
              "        console.error('Error during call to suggestCharts:', error);\n",
              "      }\n",
              "      quickchartButtonEl.classList.remove('colab-df-spinner');\n",
              "      quickchartButtonEl.classList.add('colab-df-quickchart-complete');\n",
              "    }\n",
              "    (() => {\n",
              "      let quickchartButtonEl =\n",
              "        document.querySelector('#df-c1617087-1f66-4216-bce0-35c436c678c6 button');\n",
              "      quickchartButtonEl.style.display =\n",
              "        google.colab.kernel.accessAllowed ? 'block' : 'none';\n",
              "    })();\n",
              "  </script>\n",
              "</div>\n",
              "    </div>\n",
              "  </div>\n"
            ],
            "text/plain": [
              "                                              Sender  \\\n",
              "0  Can't Sell Culture Comedy Collective <Can't.Se...   \n",
              "1  Dartmouth Comedy Network <Dartmouth.Comedy.Net...   \n",
              "2  Dartmouth Libertarians <Dartmouth.Libertarians...   \n",
              "3  Central Americans United Student Association <...   \n",
              "4            Hop Fellows <Hop.Fellows@dartmouth.edu>   \n",
              "\n",
              "                                             Subject  \\\n",
              "0    CANT SELL CULTURE COMEDY SHOW AXA WEDNESDAY 8PM   \n",
              "1             Standup Comedy Open Mic Wednesday @9PM   \n",
              "2                                     YOU OWE OTHERS   \n",
              "3  🇸🇻2024 Salvadorian Elections 🇸🇻- A Conversatio...   \n",
              "4  Hanunder  N.H. - Primer on being cool at Dartm...   \n",
              "\n",
              "                                                Body  \\\n",
              "0  Dear Gorgeous Gorgeous Gorgeous It’s been such...   \n",
              "1  Did you catch the comedy bug after watching Ma...   \n",
              "2        [cid:8efe9b1a-1318-4bcd-a7c9-ab101c844447]    \n",
              "3   Join us for a conversation with … ~ Professor...   \n",
              "4  [https://lh7-us.googleusercontent.com/bIftg2CE...   \n",
              "\n",
              "                                                Meta  \\\n",
              "0  Can't Sell Culture Comedy Collective <Can't.Se...   \n",
              "1  Dartmouth Comedy Network <Dartmouth.Comedy.Net...   \n",
              "2  Dartmouth Libertarians <Dartmouth.Libertarians...   \n",
              "3  Central Americans United Student Association <...   \n",
              "4  Hop Fellows <Hop.Fellows@dartmouth.edu> Hanund...   \n",
              "\n",
              "                                                Full  Label  \n",
              "0  Can't Sell Culture Comedy Collective <Can't.Se...      0  \n",
              "1  Dartmouth Comedy Network <Dartmouth.Comedy.Net...      0  \n",
              "2  Dartmouth Libertarians <Dartmouth.Libertarians...      0  \n",
              "3  Central Americans United Student Association <...      0  \n",
              "4  Hop Fellows <Hop.Fellows@dartmouth.edu> Hanund...      0  "
            ]
          },
          "execution_count": 6,
          "metadata": {},
          "output_type": "execute_result"
        }
      ],
      "source": [
        "df = pd.read_csv('fullDataset.csv')\n",
        "# Shuffles the dataset, as it was ordered by label during construction\n",
        "df = df.sample(frac=1, random_state=RANDOM_STATE).reset_index(drop=True)\n",
        "df.head()"
      ]
    },
    {
      "cell_type": "code",
      "execution_count": 7,
      "metadata": {
        "id": "rDzS-LgFQ8RV"
      },
      "outputs": [],
      "source": [
        "# Converts all \"urgent\" labels to \"relevant\"\n",
        "# Allows us to collpase the trinary classification task into a relevant/irrelevant binary classification task\n",
        "def changeLabels(x):\n",
        "  if x == 2:\n",
        "    return 1\n",
        "  else:\n",
        "    return x"
      ]
    },
    {
      "cell_type": "code",
      "execution_count": 8,
      "metadata": {
        "colab": {
          "base_uri": "https://localhost:8080/"
        },
        "id": "0KHNpTUqQ90k",
        "outputId": "08257032-d262-42a3-ac87-c7c63e9da770"
      },
      "outputs": [
        {
          "name": "stdout",
          "output_type": "stream",
          "text": [
            "536\n",
            "536\n"
          ]
        }
      ],
      "source": [
        "# define our docs based on the META flag\n",
        "if META:\n",
        "  docs = df[\"Meta\"].tolist()\n",
        "else:\n",
        "  docs = df[\"Full\"].tolist()\n",
        "\n",
        "# define our labels based on the THREE_CLASSES flags\n",
        "if THREE_CLASSES:\n",
        "  labels = df[\"Label\"].tolist()\n",
        "else:\n",
        "  labels = df['Label'].apply(changeLabels).tolist()\n",
        "\n",
        "print(len(docs))\n",
        "print(len(labels))"
      ]
    },
    {
      "cell_type": "code",
      "execution_count": 9,
      "metadata": {
        "id": "TFdPWfzFRccr"
      },
      "outputs": [],
      "source": [
        "# convert all documents to Tf-Idf vectors\n",
        "tfidfVectorizer = TfidfVectorizer(strip_accents='unicode', lowercase = True, stop_words='english', max_features=7500)\n",
        "processed = tfidfVectorizer.fit_transform(docs)\n",
        "docTermMatrix = processed.toarray()"
      ]
    },
    {
      "cell_type": "code",
      "execution_count": 10,
      "metadata": {
        "id": "HzzgNcteSYpt"
      },
      "outputs": [],
      "source": [
        "# generate train, test, validation sets\n",
        "train, validAndTest, trainLabels, validAndTestLabels = train_test_split(docTermMatrix, labels, test_size=0.3, random_state=RANDOM_STATE)\n",
        "valid, test, validLabels, testLabels = train_test_split(validAndTest, validAndTestLabels, test_size=0.5, random_state=RANDOM_STATE)"
      ]
    },
    {
      "cell_type": "code",
      "execution_count": 11,
      "metadata": {
        "id": "KL9UNyrKUh2H"
      },
      "outputs": [],
      "source": [
        "# list of possible values for hyperparameters - we will grid search across all of these values\n",
        "NUM_TREES = [50, 75, 100, 125, 150] # number of decision trees in the forest\n",
        "CRITERION = [\"gini\", \"entropy\", \"log_loss\"] # function to determine homegeneity\n",
        "MIN_SAMPLES_SPLIT = [2, 3, 4] # minimum number of samples required to split a node\n",
        "MAX_FEATURES = [\"sqrt\", \"log2\"] # function to consider the number of features to look for when looking for a split"
      ]
    },
    {
      "cell_type": "code",
      "execution_count": 12,
      "metadata": {
        "colab": {
          "base_uri": "https://localhost:8080/"
        },
        "id": "T4MTmwQ1TFc8",
        "outputId": "bb5299ef-dd9f-4c0d-c1ee-feeb39907c52"
      },
      "outputs": [
        {
          "name": "stdout",
          "output_type": "stream",
          "text": [
            "Best f1: 0.8277777777777778\n",
            "Best number of trees: 100\n",
            "Best criterion: gini\n",
            "Best minimum number samples to split a tree: 3\n",
            "Best max features determiner: sqrt\n"
          ]
        }
      ],
      "source": [
        "# We grid search to optimize macro-averaged F1 on the validation set\n",
        "\n",
        "# Best validation f1/hyperparameters we've seen so far\n",
        "bestF1 = 0\n",
        "bestTrees = 0\n",
        "bestCriterion = \"\"\n",
        "bestMinSamplesSplit = 0\n",
        "bestMaxFeatures = \"\"\n",
        "\n",
        " # grid search\n",
        "for tree in NUM_TREES:\n",
        "  for criterion in CRITERION:\n",
        "    for split in MIN_SAMPLES_SPLIT:\n",
        "      for features in MAX_FEATURES:\n",
        "        # train a random forest classifier\n",
        "        forest = RandomForestClassifier(n_estimators=tree, criterion=criterion, min_samples_split=split, max_features=features, random_state = RANDOM_STATE)\n",
        "        forest.fit(train, trainLabels)\n",
        "\n",
        "        # evaluation on the validation set\n",
        "        predictions = forest.predict(valid)\n",
        "        f1 = f1_score(validLabels, predictions, average=\"macro\")\n",
        "\n",
        "        # if we get a better validation f1, update the best f1/hyperparameters we've seen\n",
        "        if f1 > bestF1:\n",
        "          bestF1 = f1\n",
        "          bestTrees = tree\n",
        "          bestCriterion = criterion\n",
        "          bestMinSamplesSplit = split\n",
        "          bestMaxFeatures = features\n",
        "\n",
        "# best performing hyperparameters\n",
        "print(\"Best f1: \" + str(f1))\n",
        "print(\"Best number of trees: \" + str(bestTrees))\n",
        "print(\"Best criterion: \" + str(bestCriterion))\n",
        "print(\"Best minimum number samples to split a tree: \" + str(bestMinSamplesSplit))\n",
        "print(\"Best max features determiner: \" + str(bestMaxFeatures))"
      ]
    },
    {
      "cell_type": "code",
      "execution_count": 13,
      "metadata": {
        "colab": {
          "base_uri": "https://localhost:8080/",
          "height": 74
        },
        "id": "vGfYLGPhXKiT",
        "outputId": "cde76204-e14e-46da-ede3-a5b55b2ae0d0"
      },
      "outputs": [
        {
          "data": {
            "text/html": [
              "<style>#sk-container-id-1 {color: black;background-color: white;}#sk-container-id-1 pre{padding: 0;}#sk-container-id-1 div.sk-toggleable {background-color: white;}#sk-container-id-1 label.sk-toggleable__label {cursor: pointer;display: block;width: 100%;margin-bottom: 0;padding: 0.3em;box-sizing: border-box;text-align: center;}#sk-container-id-1 label.sk-toggleable__label-arrow:before {content: \"▸\";float: left;margin-right: 0.25em;color: #696969;}#sk-container-id-1 label.sk-toggleable__label-arrow:hover:before {color: black;}#sk-container-id-1 div.sk-estimator:hover label.sk-toggleable__label-arrow:before {color: black;}#sk-container-id-1 div.sk-toggleable__content {max-height: 0;max-width: 0;overflow: hidden;text-align: left;background-color: #f0f8ff;}#sk-container-id-1 div.sk-toggleable__content pre {margin: 0.2em;color: black;border-radius: 0.25em;background-color: #f0f8ff;}#sk-container-id-1 input.sk-toggleable__control:checked~div.sk-toggleable__content {max-height: 200px;max-width: 100%;overflow: auto;}#sk-container-id-1 input.sk-toggleable__control:checked~label.sk-toggleable__label-arrow:before {content: \"▾\";}#sk-container-id-1 div.sk-estimator input.sk-toggleable__control:checked~label.sk-toggleable__label {background-color: #d4ebff;}#sk-container-id-1 div.sk-label input.sk-toggleable__control:checked~label.sk-toggleable__label {background-color: #d4ebff;}#sk-container-id-1 input.sk-hidden--visually {border: 0;clip: rect(1px 1px 1px 1px);clip: rect(1px, 1px, 1px, 1px);height: 1px;margin: -1px;overflow: hidden;padding: 0;position: absolute;width: 1px;}#sk-container-id-1 div.sk-estimator {font-family: monospace;background-color: #f0f8ff;border: 1px dotted black;border-radius: 0.25em;box-sizing: border-box;margin-bottom: 0.5em;}#sk-container-id-1 div.sk-estimator:hover {background-color: #d4ebff;}#sk-container-id-1 div.sk-parallel-item::after {content: \"\";width: 100%;border-bottom: 1px solid gray;flex-grow: 1;}#sk-container-id-1 div.sk-label:hover label.sk-toggleable__label {background-color: #d4ebff;}#sk-container-id-1 div.sk-serial::before {content: \"\";position: absolute;border-left: 1px solid gray;box-sizing: border-box;top: 0;bottom: 0;left: 50%;z-index: 0;}#sk-container-id-1 div.sk-serial {display: flex;flex-direction: column;align-items: center;background-color: white;padding-right: 0.2em;padding-left: 0.2em;position: relative;}#sk-container-id-1 div.sk-item {position: relative;z-index: 1;}#sk-container-id-1 div.sk-parallel {display: flex;align-items: stretch;justify-content: center;background-color: white;position: relative;}#sk-container-id-1 div.sk-item::before, #sk-container-id-1 div.sk-parallel-item::before {content: \"\";position: absolute;border-left: 1px solid gray;box-sizing: border-box;top: 0;bottom: 0;left: 50%;z-index: -1;}#sk-container-id-1 div.sk-parallel-item {display: flex;flex-direction: column;z-index: 1;position: relative;background-color: white;}#sk-container-id-1 div.sk-parallel-item:first-child::after {align-self: flex-end;width: 50%;}#sk-container-id-1 div.sk-parallel-item:last-child::after {align-self: flex-start;width: 50%;}#sk-container-id-1 div.sk-parallel-item:only-child::after {width: 0;}#sk-container-id-1 div.sk-dashed-wrapped {border: 1px dashed gray;margin: 0 0.4em 0.5em 0.4em;box-sizing: border-box;padding-bottom: 0.4em;background-color: white;}#sk-container-id-1 div.sk-label label {font-family: monospace;font-weight: bold;display: inline-block;line-height: 1.2em;}#sk-container-id-1 div.sk-label-container {text-align: center;}#sk-container-id-1 div.sk-container {/* jupyter's `normalize.less` sets `[hidden] { display: none; }` but bootstrap.min.css set `[hidden] { display: none !important; }` so we also need the `!important` here to be able to override the default hidden behavior on the sphinx rendered scikit-learn.org. See: https://github.com/scikit-learn/scikit-learn/issues/21755 */display: inline-block !important;position: relative;}#sk-container-id-1 div.sk-text-repr-fallback {display: none;}</style><div id=\"sk-container-id-1\" class=\"sk-top-container\"><div class=\"sk-text-repr-fallback\"><pre>RandomForestClassifier(min_samples_split=3)</pre><b>In a Jupyter environment, please rerun this cell to show the HTML representation or trust the notebook. <br />On GitHub, the HTML representation is unable to render, please try loading this page with nbviewer.org.</b></div><div class=\"sk-container\" hidden><div class=\"sk-item\"><div class=\"sk-estimator sk-toggleable\"><input class=\"sk-toggleable__control sk-hidden--visually\" id=\"sk-estimator-id-1\" type=\"checkbox\" checked><label for=\"sk-estimator-id-1\" class=\"sk-toggleable__label sk-toggleable__label-arrow\">RandomForestClassifier</label><div class=\"sk-toggleable__content\"><pre>RandomForestClassifier(min_samples_split=3)</pre></div></div></div></div></div>"
            ],
            "text/plain": [
              "RandomForestClassifier(min_samples_split=3)"
            ]
          },
          "execution_count": 13,
          "metadata": {},
          "output_type": "execute_result"
        }
      ],
      "source": [
        "# train a random forest classifier on the best hyperparameters we saw\n",
        "forest = RandomForestClassifier(n_estimators=bestTrees, criterion=bestCriterion, min_samples_split=bestMinSamplesSplit, max_features=bestMaxFeatures)\n",
        "forest.fit(train, trainLabels)"
      ]
    },
    {
      "cell_type": "code",
      "execution_count": 14,
      "metadata": {
        "colab": {
          "base_uri": "https://localhost:8080/"
        },
        "id": "w_z6VzX3THP0",
        "outputId": "a4aadbc3-646a-4e2a-9700-a5ac4518ce3d"
      },
      "outputs": [
        {
          "name": "stdout",
          "output_type": "stream",
          "text": [
            "              precision    recall  f1-score   support\n",
            "\n",
            "           0       0.81      0.93      0.87        45\n",
            "           1       0.86      0.82      0.84        22\n",
            "           2       1.00      0.57      0.73        14\n",
            "\n",
            "    accuracy                           0.84        81\n",
            "   macro avg       0.89      0.77      0.81        81\n",
            "weighted avg       0.85      0.84      0.83        81\n",
            "\n"
          ]
        }
      ],
      "source": [
        "# evaluate that random forest classifier on the test set\n",
        "predictions = forest.predict(test)\n",
        "print(classification_report(testLabels, predictions))"
      ]
    },
    {
      "cell_type": "code",
      "execution_count": 15,
      "metadata": {
        "colab": {
          "base_uri": "https://localhost:8080/"
        },
        "id": "JvBO6V8IPASG",
        "outputId": "c94192bd-0df6-499a-984f-fefdfd3a988f"
      },
      "outputs": [
        {
          "name": "stdout",
          "output_type": "stream",
          "text": [
            "[[42  3  0]\n",
            " [ 4 18  0]\n",
            " [ 6  0  8]]\n"
          ]
        }
      ],
      "source": [
        "print(confusion_matrix(testLabels, predictions))"
      ]
    }
  ],
  "metadata": {
    "colab": {
      "provenance": []
    },
    "kernelspec": {
      "display_name": "Python 3",
      "name": "python3"
    },
    "language_info": {
      "name": "python"
    }
  },
  "nbformat": 4,
  "nbformat_minor": 0
}
